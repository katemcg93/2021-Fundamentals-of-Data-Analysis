{
 "cells": [
  {
   "cell_type": "markdown",
   "id": "54108bfc-d571-42c7-93a3-aec5674d4ba7",
   "metadata": {},
   "source": [
    "# Playing with Jupyter\n",
    "\n",
    "## This is a subheading\n",
    "\n",
    "- This is a list\n",
    "- This is the second point\n",
    "- This is the third point"
   ]
  },
  {
   "cell_type": "markdown",
   "id": "54355a30-99dc-4ef3-a2fa-628a006af1c7",
   "metadata": {},
   "source": [
    "**Here is a polite frog**"
   ]
  },
  {
   "cell_type": "markdown",
   "id": "12f12f6d-233b-4850-986d-b221d757be65",
   "metadata": {},
   "source": [
    "![polite frog](https://i.redd.it/zhxoga80xmv31.jpg)"
   ]
  },
  {
   "cell_type": "code",
   "execution_count": 3,
   "id": "0d697afc-ae66-411a-b0c1-996f5dc3db6d",
   "metadata": {},
   "outputs": [
    {
     "name": "stdout",
     "output_type": "stream",
     "text": [
      "1\n",
      "2\n",
      "3\n",
      "4\n",
      "5\n"
     ]
    }
   ],
   "source": [
    "i = 0\n",
    "\n",
    "while i <5:\n",
    "    i +=1\n",
    "    print (i)\n",
    "    "
   ]
  },
  {
   "cell_type": "code",
   "execution_count": null,
   "id": "40615c45-15d1-44ac-a312-5ce31a11198c",
   "metadata": {},
   "outputs": [],
   "source": []
  }
 ],
 "metadata": {
  "kernelspec": {
   "display_name": "Python 3",
   "language": "python",
   "name": "python3"
  },
  "language_info": {
   "codemirror_mode": {
    "name": "ipython",
    "version": 3
   },
   "file_extension": ".py",
   "mimetype": "text/x-python",
   "name": "python",
   "nbconvert_exporter": "python",
   "pygments_lexer": "ipython3",
   "version": "3.8.8"
  }
 },
 "nbformat": 4,
 "nbformat_minor": 5
}
